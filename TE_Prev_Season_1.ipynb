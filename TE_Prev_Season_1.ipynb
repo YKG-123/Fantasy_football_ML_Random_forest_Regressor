{
  "nbformat": 4,
  "nbformat_minor": 0,
  "metadata": {
    "colab": {
      "provenance": [],
      "include_colab_link": true
    },
    "kernelspec": {
      "name": "python3",
      "display_name": "Python 3"
    },
    "language_info": {
      "name": "python"
    }
  },
  "cells": [
    {
      "cell_type": "markdown",
      "metadata": {
        "id": "view-in-github",
        "colab_type": "text"
      },
      "source": [
        "<a href=\"https://colab.research.google.com/github/YKG-123/Fantasy_football_ML_Random_forest_Regressor/blob/main/TE_Prev_Season_1.ipynb\" target=\"_parent\"><img src=\"https://colab.research.google.com/assets/colab-badge.svg\" alt=\"Open In Colab\"/></a>"
      ]
    },
    {
      "cell_type": "code",
      "execution_count": 2,
      "metadata": {
        "id": "A-vhWC9lfg7S"
      },
      "outputs": [],
      "source": [
        "import pandas as pd\n",
        "import numpy as np\n",
        "import matplotlib.pyplot as plt\n",
        "import seaborn as sns\n",
        "from sklearn.model_selection import train_test_split\n",
        "from sklearn.linear_model import LinearRegression\n",
        "from sklearn.metrics import mean_squared_error, r2_score\n",
        "from sklearn.preprocessing import PolynomialFeatures\n",
        "import requests\n",
        "from sklearn.ensemble import RandomForestRegressor\n",
        "from sklearn.model_selection import cross_val_score\n",
        "from scipy.stats import pearsonr, spearmanr\n",
        "import kagglehub\n",
        "from kagglehub import KaggleDatasetAdapter\n",
        "from google.colab import drive\n"
      ]
    },
    {
      "cell_type": "code",
      "source": [
        "file_path = \"weekly_player_stats_offense.csv\"\n",
        "file_path2 = \"yearly_player_stats_offense.csv\"\n",
        "\n",
        "df = kagglehub.load_dataset(\n",
        "  KaggleDatasetAdapter.PANDAS,\n",
        "  \"philiphyde1/nfl-stats-1999-2022\",\n",
        "  file_path,\n",
        ")\n",
        "df2=kagglehub.load_dataset(\n",
        "  KaggleDatasetAdapter.PANDAS,\n",
        "  \"philiphyde1/nfl-stats-1999-2022\",\n",
        "  file_path2,\n",
        ")\n",
        "import requests\n",
        "\n",
        "years = range(2016, 2024)\n",
        "all_adp = []\n",
        "\n",
        "for y in years:\n",
        "    url = f\"https://fantasyfootballcalculator.com/api/v1/adp/ppr?teams=12&year={y}&position=all\"\n",
        "    try:\n",
        "        r = requests.get(url)\n",
        "        r.raise_for_status()\n",
        "        data = r.json()\n",
        "\n",
        "        df_adp = pd.DataFrame(data[\"players\"])\n",
        "        df_adp[\"season\"] = y\n",
        "        all_adp.append(df_adp)\n",
        "        print(f\"{y} — {len(df_adp)} players loaded\")\n",
        "    except Exception as e:\n",
        "        print(f\"Error for {y}: {e}\")\n",
        "\n",
        "adp_all = pd.concat(all_adp, ignore_index=True)\n",
        "\n",
        "adp_all[\"name\"] = adp_all[\"name\"].str.strip()\n",
        "\n",
        "print(adp_all.head())\n",
        "\n",
        "\n",
        "\n",
        "adp_keep = adp_all[[\"name\", \"position\", \"team\", \"adp\", \"season\"]].copy()\n",
        "\n",
        "adp_keep[\"player_name_merge\"] = (\n",
        "    adp_keep[\"name\"]\n",
        "    .str.strip()\n",
        "    .str.replace(r\"\\s+Jr\\.?$\", \"\", regex=True)\n",
        "    .str.replace(r\"\\s+Sr\\.?$\", \"\", regex=True)\n",
        ")\n",
        "\n",
        "\n",
        "adp_all = (\n",
        "    adp_keep\n",
        "    .groupby([\"season\", \"player_name_merge\"], as_index=False)\n",
        "    .agg({\n",
        "        \"adp\": \"first\",\n",
        "        }))\n",
        "\n",
        "df[\"player_name_merge\"] = (\n",
        "    df[\"player_name\"]\n",
        "    .str.strip()\n",
        "    .str.replace(r\"\\s+Jr\\.?$\", \"\", regex=True)\n",
        "    .str.replace(r\"\\s+Sr\\.?$\", \"\", regex=True)\n",
        ")\n",
        "\n",
        "df= df.merge(adp_all, on=[\"season\", \"player_name_merge\"], how=\"left\")\n",
        "\n",
        "print(df[[\"player_name\", \"season\", \"adp\", \"position\", \"team\"]].head())"
      ],
      "metadata": {
        "colab": {
          "base_uri": "https://localhost:8080/"
        },
        "id": "3AdGZcgefo4h",
        "outputId": "a5d8ee3d-4290-467a-8294-28af57ff61aa"
      },
      "execution_count": 3,
      "outputs": [
        {
          "output_type": "stream",
          "name": "stderr",
          "text": [
            "/tmp/ipython-input-464360808.py:4: DeprecationWarning: Use dataset_load() instead of load_dataset(). load_dataset() will be removed in a future version.\n",
            "  df = kagglehub.load_dataset(\n"
          ]
        },
        {
          "output_type": "stream",
          "name": "stdout",
          "text": [
            "Downloading from https://www.kaggle.com/api/v1/datasets/download/philiphyde1/nfl-stats-1999-2022?dataset_version_number=17&file_name=weekly_player_stats_offense.csv...\n"
          ]
        },
        {
          "output_type": "stream",
          "name": "stderr",
          "text": [
            "100%|██████████| 101M/101M [00:06<00:00, 16.5MB/s] \n",
            "/tmp/ipython-input-464360808.py:9: DeprecationWarning: Use dataset_load() instead of load_dataset(). load_dataset() will be removed in a future version.\n",
            "  df2=kagglehub.load_dataset(\n"
          ]
        },
        {
          "output_type": "stream",
          "name": "stdout",
          "text": [
            "Using Colab cache for faster access to the 'nfl-stats-1999-2022' dataset.\n",
            "2016 — 188 players loaded\n",
            "2017 — 184 players loaded\n",
            "2018 — 197 players loaded\n",
            "2019 — 200 players loaded\n",
            "2020 — 203 players loaded\n",
            "2021 — 211 players loaded\n",
            "2022 — 157 players loaded\n",
            "2023 — 202 players loaded\n",
            "   player_id               name position team  adp adp_formatted  \\\n",
            "0       1886      Antonio Brown       WR  PIT  1.2          1.01   \n",
            "1       1796        Julio Jones       WR  ATL  2.8          1.03   \n",
            "2       2113  Odell Beckham Jr.       WR  NYG  3.4          1.03   \n",
            "3       2297      David Johnson       RB  ARI  3.4          1.03   \n",
            "4       2280        Todd Gurley       RB  LAR  6.3          1.06   \n",
            "\n",
            "   times_drafted  high  low  stdev  bye  season  \n",
            "0            454     1    4    0.5    5    2016  \n",
            "1            348     1    6    0.9    5    2016  \n",
            "2            512     1   10    1.2   14    2016  \n",
            "3            146     1    7    1.5    8    2016  \n",
            "4            470     1   12    1.8    8    2016  \n",
            "     player_name  season  adp position team\n",
            "0  Charlie Batch    2012  NaN       QB  PIT\n",
            "1  Charlie Batch    2012  NaN       QB  PIT\n",
            "2  Donald Driver    2012  NaN       WR   GB\n",
            "3  Donald Driver    2012  NaN       WR   GB\n",
            "4  Donald Driver    2012  NaN       WR   GB\n"
          ]
        }
      ]
    },
    {
      "cell_type": "code",
      "source": [
        "df=df[df[\"season\"]>=2016]\n",
        "df=df[df[\"season\"]<=2022]\n",
        "print(df[\"adp\"])\n",
        "df2=df2[df2[\"season\"]>=2016]\n",
        "df2=df2[df2[\"season\"]<=2022]\n",
        "df2=df2[df2[\"position\"]==\"TE\"]\n",
        "print(len(df2))\n",
        "print(df2[\"season_average_fantasy_points_ppr\"].describe())\n",
        "df2=df2[df2[\"season_average_fantasy_points_ppr\"]>=4.2]\n",
        "print(len(df2))\n",
        "print(df2[[\"player_name\",\"season\",\"season_average_fantasy_points_ppr\"]]\n",
        "          .sort_values(\"season_average_fantasy_points_ppr\",ascending=False))"
      ],
      "metadata": {
        "id": "WesSXtuDhl2h",
        "colab": {
          "base_uri": "https://localhost:8080/"
        },
        "outputId": "9b6cef6b-9715-4a22-d572-6aca804f4d6e"
      },
      "execution_count": 4,
      "outputs": [
        {
          "output_type": "stream",
          "name": "stdout",
          "text": [
            "15557    68.5\n",
            "15558    68.5\n",
            "15559    68.5\n",
            "15560    68.5\n",
            "15561    68.5\n",
            "         ... \n",
            "48545     NaN\n",
            "48546     NaN\n",
            "48547     NaN\n",
            "48548     NaN\n",
            "48549     NaN\n",
            "Name: adp, Length: 32993, dtype: float64\n",
            "855\n",
            "count    855.000000\n",
            "mean       5.295205\n",
            "std        3.998779\n",
            "min       -2.000000\n",
            "25%        2.395000\n",
            "50%        4.300000\n",
            "75%        7.310000\n",
            "max       27.670000\n",
            "Name: season_average_fantasy_points_ppr, dtype: float64\n",
            "441\n",
            "            player_name  season  season_average_fantasy_points_ppr\n",
            "4140       Travis Kelce    2020                              27.67\n",
            "5368       Travis Kelce    2022                              25.57\n",
            "4767       Travis Kelce    2021                              24.55\n",
            "1853         Jared Cook    2016                              21.55\n",
            "3539       Travis Kelce    2019                              21.30\n",
            "...                 ...     ...                                ...\n",
            "5899     Connor Heyward    2022                               4.22\n",
            "2046  Crockett Gillmore    2016                               4.22\n",
            "2717       Seth DeValve    2017                               4.22\n",
            "4645          Cole Kmet    2020                               4.21\n",
            "5172      Juwan Johnson    2021                               4.20\n",
            "\n",
            "[441 rows x 3 columns]\n"
          ]
        }
      ]
    },
    {
      "cell_type": "code",
      "source": [
        "print(df2[\"season_average_fantasy_points_ppr\"].describe())\n"
      ],
      "metadata": {
        "colab": {
          "base_uri": "https://localhost:8080/"
        },
        "id": "BYu5M-iSXCWa",
        "outputId": "1b67774f-7f9f-4613-cbbf-07028eeb6f0b"
      },
      "execution_count": 5,
      "outputs": [
        {
          "output_type": "stream",
          "name": "stdout",
          "text": [
            "count    441.000000\n",
            "mean       8.146032\n",
            "std        3.578006\n",
            "min        4.200000\n",
            "25%        5.490000\n",
            "50%        7.150000\n",
            "75%        9.980000\n",
            "max       27.670000\n",
            "Name: season_average_fantasy_points_ppr, dtype: float64\n"
          ]
        }
      ]
    },
    {
      "cell_type": "code",
      "source": [
        "\n",
        "df = df[df['position'] == 'TE'].copy()\n",
        "df=df[df[\"season_average_fantasy_points_ppr\"]>=4.2]\n",
        "df['week'] = df['week'].astype(int)\n",
        "df['season'] = df['season'].astype(int)\n",
        "df[\"adp\"]=df[\"adp\"].replace(0,200)\n"
      ],
      "metadata": {
        "id": "T9WZ8koDR4Yp"
      },
      "execution_count": 6,
      "outputs": []
    },
    {
      "cell_type": "code",
      "source": [
        "df_young=df\n",
        "features = [                \"adp\",\"draft_ovr\",\"age\"\n",
        "\n",
        "]\n",
        "df_young=df_young.groupby([\"player_name\", \"season\"]).agg({\n",
        "    \"adp\": \"first\",\n",
        "    \"draft_ovr\": \"first\",\n",
        "    \"fantasy_points_ppr\": \"mean\",\n",
        "    \"age\":\"first\"\n",
        "})\n",
        "print(len(df_young))\n",
        "X = df_young[features]\n",
        "\n",
        "y = df_young[\"fantasy_points_ppr\"]\n",
        "X_train, X_test, y_train, y_test = train_test_split(X, y, test_size=0.2, random_state=42)\n",
        "model = RandomForestRegressor(\n",
        "    n_estimators=900,\n",
        "    min_samples_split=5,\n",
        "    min_samples_leaf=5,\n",
        "    random_state=42,\n",
        "    max_depth=5,\n",
        "    n_jobs=-1,\n",
        "    oob_score=True,\n",
        "    bootstrap=True\n",
        "\n",
        ")\n",
        "model.fit(X_train, y_train)\n",
        "train_r2 = model.score(X_train, y_train)\n",
        "test_r2 = model.score(X_test, y_test)\n",
        "print(f\"Train R²: {train_r2:.3f}\")\n",
        "print(f\"Test R²: {test_r2:.3f}\")\n",
        "importances =model.feature_importances_\n",
        "plt.figure(figsize=(7, max(3, len(features) * 0.5)))\n",
        "plt.barh(features, importances)\n",
        "plt.xlabel(\"Feature Importance\")\n",
        "plt.title(\"QB Next-Season Prediction Feature Importance (previous-season stats)\")\n",
        "plt.show()"
      ],
      "metadata": {
        "id": "j2XoxH2mS3bL",
        "colab": {
          "base_uri": "https://localhost:8080/",
          "height": 385
        },
        "outputId": "1491a14b-f317-4bb6-9f21-ccb2fd71f4d1"
      },
      "execution_count": 7,
      "outputs": [
        {
          "output_type": "stream",
          "name": "stdout",
          "text": [
            "485\n",
            "Train R²: 0.369\n",
            "Test R²: 0.386\n"
          ]
        },
        {
          "output_type": "display_data",
          "data": {
            "text/plain": [
              "<Figure size 700x300 with 1 Axes>"
            ],
            "image/png": "[encoded data removed]"
          },
          "metadata": {}
        }
      ]
    },
    {
      "cell_type": "code",
      "source": [
        "\n",
        "file_path = \"weekly_player_stats_offense.csv\"\n",
        "df_real = kagglehub.load_dataset(\n",
        "    KaggleDatasetAdapter.PANDAS,\n",
        "    \"philiphyde1/nfl-stats-1999-2022\",\n",
        "    file_path,\n",
        ")\n",
        "\n",
        "df_real = df_real[df_real[\"season\"] == 2024].copy()\n",
        "df_real[\"season\"] = 2025\n",
        "df_real=df_real[df_real[\"position\"]==\"TE\"]\n",
        "years = 2025\n",
        "years_list = [years] if isinstance(years, int) else list(years)\n",
        "all_adp = []\n",
        "\n",
        "for y in years_list:\n",
        "    url = f\"https://fantasyfootballcalculator.com/api/v1/adp/ppr?teams=12&year={y}&position=all\"\n",
        "    r = requests.get(url)\n",
        "    r.raise_for_status()\n",
        "    df_adp = pd.DataFrame(r.json()[\"players\"])\n",
        "    df_adp[\"season\"] = y\n",
        "    all_adp.append(df_adp)\n",
        "    print(f\"{y} — {len(df_adp)} players loaded\")\n",
        "\n",
        "adp_all = pd.concat(all_adp, ignore_index=True)\n",
        "adp_all[\"name\"] = adp_all[\"name\"].str.strip()\n",
        "\n",
        "adp_keep = adp_all[[\"name\", \"position\", \"team\", \"adp\", \"season\"]].copy()\n",
        "adp_keep=adp_keep[adp_keep[\"position\"]==\"TE\"]\n",
        "\n",
        "def normalize_name(s: pd.Series) -> pd.Series:\n",
        "    return (\n",
        "        s.fillna(\"\")\n",
        "         .str.strip()\n",
        "         .str.replace(r\"\\s+Jr\\.?$\", \"\", regex=True)\n",
        "         .str.replace(r\"\\s+Sr\\.?$\", \"\", regex=True)\n",
        "         .str.replace(r\"\\s+III?$\", \"\", regex=True)\n",
        "         .str.replace(r\"[^\\w\\s\\-']\", \"\", regex=True)\n",
        "         .str.replace(r\"\\s+\", \" \", regex=True)\n",
        "    )\n",
        "\n",
        "adp_keep[\"player_name_merge\"] = normalize_name(adp_keep[\"name\"])\n",
        "df_real[\"player_name_merge\"] = normalize_name(df_real[\"player_name\"])\n",
        "\n",
        "adp_non_sum = (\n",
        "    adp_keep\n",
        "    .groupby([\"season\", \"player_name_merge\",] ,as_index=False)\n",
        "    .agg({\n",
        "        \"adp\": \"first\",\n",
        "       }))\n",
        "\n",
        "\n",
        "df_real = df_real.merge(adp_non_sum, on=[\"season\", \"player_name_merge\"], how=\"outer\")\n",
        "\n",
        "rb = df_real[df_real[\"position\"] == \"TE\"].copy()\n",
        "\n",
        "num_cols = rb.select_dtypes(include=\"number\").columns.tolist()\n",
        "\n",
        "RB_stats = (\n",
        "    rb.groupby([\"player_name\", \"season\"], as_index=False)[num_cols]\n",
        "      .mean()\n",
        ")\n",
        "\n",
        "RB_adps = (\n",
        "    rb.groupby([\"player_name\", \"season\"], as_index=False)\n",
        "      .agg({\"adp\": \"first\", \"position\": \"first\", \"team\": \"first\"})\n",
        ")\n",
        "\n",
        "\n",
        "RB_2025 = RB_stats.merge(RB_adps, on=[\"player_name\", \"season\"], how=\"left\")\n",
        "\n",
        "adp_non_sum.rename(columns={\"adp\": \"adp_for_rank\",\n",
        "                            \"player_name_merge\":\"player_name\"}, inplace=True)\n",
        "\n",
        "print(RB_stats[[\"player_name\",  \"adp\"]]\n",
        "      .sort_values(\"adp\", ascending=False)\n",
        "      .head(15))\n",
        "rename_map = {\n",
        "    \"passing_yards\": \"passing_yards_prev\",\n",
        "    \"fantasy_points_ppr\": \"fantasy_points_ppr_prev\",\n",
        "    \"rushing_yards\": \"rushing_yards_prev\",\n",
        "    \"pass_touchdown\": \"pass_touchdown_prev\",\n",
        "    \"qb_dropback\": \"qb_dropback_prev\",\n",
        "    \"first_down_pass\": \"first_down_pass_prev\",\n",
        "    \"team_offense_snaps\": \"team_offense_snaps_prev\",\n",
        "    \"touches\": \"touches_prev\",\n",
        "    \"receiving_yards\": \"receiving_yards_prev\",\n",
        "    \"targets\": \"targets_prev\"\n",
        "}\n",
        "RB_2025 = RB_stats.rename(columns={k: v for k, v in rename_map.items() if k in RB_2025.columns})\n",
        "RB_2025[\"adp\"]=RB_2025[\"adp\"].replace(0,200)\n",
        "print(adp_non_sum.columns)\n",
        "RB_2025[\"predicted_target_season\"] = model.predict(RB_2025[features].values)\n",
        "adp_non_sum[\"adp_for_rank\"]=adp_non_sum[\"adp_for_rank\"].replace(0,200)\n",
        "X_input = RB_2025[features]\n",
        "RB_2025[\"adp\"].fillna(200,inplace=True)\n",
        "print(\"NaN count per feature:\\n\", X_input.isna().sum())\n",
        "print(\"Any inf?\", np.isinf(X_input.to_numpy()).any())\n",
        "\n"
      ],
      "metadata": {
        "colab": {
          "base_uri": "https://localhost:8080/",
          "height": 636
        },
        "id": "qLWVKvyQ8OPf",
        "outputId": "4be9e073-b38a-4bd7-a5d6-58e794383396"
      },
      "execution_count": 8,
      "outputs": [
        {
          "output_type": "stream",
          "name": "stderr",
          "text": [
            "/tmp/ipython-input-3305982835.py:2: DeprecationWarning: Use dataset_load() instead of load_dataset(). load_dataset() will be removed in a future version.\n",
            "  df_real = kagglehub.load_dataset(\n"
          ]
        },
        {
          "output_type": "stream",
          "name": "stdout",
          "text": [
            "Using Colab cache for faster access to the 'nfl-stats-1999-2022' dataset.\n",
            "2025 — 0 players loaded\n"
          ]
        },
        {
          "output_type": "error",
          "ename": "KeyError",
          "evalue": "'name'",
          "traceback": [
            "\u001b[0;31m---------------------------------------------------------------------------\u001b[0m",
            "\u001b[0;31mKeyError\u001b[0m                                  Traceback (most recent call last)",
            "\u001b[0;32m/usr/local/lib/python3.12/dist-packages/pandas/core/indexes/base.py\u001b[0m in \u001b[0;36mget_loc\u001b[0;34m(self, key)\u001b[0m\n\u001b[1;32m   3804\u001b[0m         \u001b[0;32mtry\u001b[0m\u001b[0;34m:\u001b[0m\u001b[0;34m\u001b[0m\u001b[0;34m\u001b[0m\u001b[0m\n\u001b[0;32m-> 3805\u001b[0;31m             \u001b[0;32mreturn\u001b[0m \u001b[0mself\u001b[0m\u001b[0;34m.\u001b[0m\u001b[0m_engine\u001b[0m\u001b[0;34m.\u001b[0m\u001b[0mget_loc\u001b[0m\u001b[0;34m(\u001b[0m\u001b[0mcasted_key\u001b[0m\u001b[0;34m)\u001b[0m\u001b[0;34m\u001b[0m\u001b[0;34m\u001b[0m\u001b[0m\n\u001b[0m\u001b[1;32m   3806\u001b[0m         \u001b[0;32mexcept\u001b[0m \u001b[0mKeyError\u001b[0m \u001b[0;32mas\u001b[0m \u001b[0merr\u001b[0m\u001b[0;34m:\u001b[0m\u001b[0;34m\u001b[0m\u001b[0;34m\u001b[0m\u001b[0m\n",
            "\u001b[0;32mindex.pyx\u001b[0m in \u001b[0;36mpandas._libs.index.IndexEngine.get_loc\u001b[0;34m()\u001b[0m\n",
            "\u001b[0;32mindex.pyx\u001b[0m in \u001b[0;36mpandas._libs.index.IndexEngine.get_loc\u001b[0;34m()\u001b[0m\n",
            "\u001b[0;32mpandas/_libs/hashtable_class_helper.pxi\u001b[0m in \u001b[0;36mpandas._libs.hashtable.PyObjectHashTable.get_item\u001b[0;34m()\u001b[0m\n",
            "\u001b[0;32mpandas/_libs/hashtable_class_helper.pxi\u001b[0m in \u001b[0;36mpandas._libs.hashtable.PyObjectHashTable.get_item\u001b[0;34m()\u001b[0m\n",
            "\u001b[0;31mKeyError\u001b[0m: 'name'",
            "\nThe above exception was the direct cause of the following exception:\n",
            "\u001b[0;31mKeyError\u001b[0m                                  Traceback (most recent call last)",
            "\u001b[0;32m/tmp/ipython-input-3305982835.py\u001b[0m in \u001b[0;36m<cell line: 0>\u001b[0;34m()\u001b[0m\n\u001b[1;32m     23\u001b[0m \u001b[0;34m\u001b[0m\u001b[0m\n\u001b[1;32m     24\u001b[0m \u001b[0madp_all\u001b[0m \u001b[0;34m=\u001b[0m \u001b[0mpd\u001b[0m\u001b[0;34m.\u001b[0m\u001b[0mconcat\u001b[0m\u001b[0;34m(\u001b[0m\u001b[0mall_adp\u001b[0m\u001b[0;34m,\u001b[0m \u001b[0mignore_index\u001b[0m\u001b[0;34m=\u001b[0m\u001b[0;32mTrue\u001b[0m\u001b[0;34m)\u001b[0m\u001b[0;34m\u001b[0m\u001b[0;34m\u001b[0m\u001b[0m\n\u001b[0;32m---> 25\u001b[0;31m \u001b[0madp_all\u001b[0m\u001b[0;34m[\u001b[0m\u001b[0;34m\"name\"\u001b[0m\u001b[0;34m]\u001b[0m \u001b[0;34m=\u001b[0m \u001b[0madp_all\u001b[0m\u001b[0;34m[\u001b[0m\u001b[0;34m\"name\"\u001b[0m\u001b[0;34m]\u001b[0m\u001b[0;34m.\u001b[0m\u001b[0mstr\u001b[0m\u001b[0;34m.\u001b[0m\u001b[0mstrip\u001b[0m\u001b[0;34m(\u001b[0m\u001b[0;34m)\u001b[0m\u001b[0;34m\u001b[0m\u001b[0;34m\u001b[0m\u001b[0m\n\u001b[0m\u001b[1;32m     26\u001b[0m \u001b[0;34m\u001b[0m\u001b[0m\n\u001b[1;32m     27\u001b[0m \u001b[0madp_keep\u001b[0m \u001b[0;34m=\u001b[0m \u001b[0madp_all\u001b[0m\u001b[0;34m[\u001b[0m\u001b[0;34m[\u001b[0m\u001b[0;34m\"name\"\u001b[0m\u001b[0;34m,\u001b[0m \u001b[0;34m\"position\"\u001b[0m\u001b[0;34m,\u001b[0m \u001b[0;34m\"team\"\u001b[0m\u001b[0;34m,\u001b[0m \u001b[0;34m\"adp\"\u001b[0m\u001b[0;34m,\u001b[0m \u001b[0;34m\"season\"\u001b[0m\u001b[0;34m]\u001b[0m\u001b[0;34m]\u001b[0m\u001b[0;34m.\u001b[0m\u001b[0mcopy\u001b[0m\u001b[0;34m(\u001b[0m\u001b[0;34m)\u001b[0m\u001b[0;34m\u001b[0m\u001b[0;34m\u001b[0m\u001b[0m\n",
            "\u001b[0;32m/usr/local/lib/python3.12/dist-packages/pandas/core/frame.py\u001b[0m in \u001b[0;36m__getitem__\u001b[0;34m(self, key)\u001b[0m\n\u001b[1;32m   4100\u001b[0m             \u001b[0;32mif\u001b[0m \u001b[0mself\u001b[0m\u001b[0;34m.\u001b[0m\u001b[0mcolumns\u001b[0m\u001b[0;34m.\u001b[0m\u001b[0mnlevels\u001b[0m \u001b[0;34m>\u001b[0m \u001b[0;36m1\u001b[0m\u001b[0;34m:\u001b[0m\u001b[0;34m\u001b[0m\u001b[0;34m\u001b[0m\u001b[0m\n\u001b[1;32m   4101\u001b[0m                 \u001b[0;32mreturn\u001b[0m \u001b[0mself\u001b[0m\u001b[0;34m.\u001b[0m\u001b[0m_getitem_multilevel\u001b[0m\u001b[0;34m(\u001b[0m\u001b[0mkey\u001b[0m\u001b[0;34m)\u001b[0m\u001b[0;34m\u001b[0m\u001b[0;34m\u001b[0m\u001b[0m\n\u001b[0;32m-> 4102\u001b[0;31m             \u001b[0mindexer\u001b[0m \u001b[0;34m=\u001b[0m \u001b[0mself\u001b[0m\u001b[0;34m.\u001b[0m\u001b[0mcolumns\u001b[0m\u001b[0;34m.\u001b[0m\u001b[0mget_loc\u001b[0m\u001b[0;34m(\u001b[0m\u001b[0mkey\u001b[0m\u001b[0;34m)\u001b[0m\u001b[0;34m\u001b[0m\u001b[0;34m\u001b[0m\u001b[0m\n\u001b[0m\u001b[1;32m   4103\u001b[0m             \u001b[0;32mif\u001b[0m \u001b[0mis_integer\u001b[0m\u001b[0;34m(\u001b[0m\u001b[0mindexer\u001b[0m\u001b[0;34m)\u001b[0m\u001b[0;34m:\u001b[0m\u001b[0;34m\u001b[0m\u001b[0;34m\u001b[0m\u001b[0m\n\u001b[1;32m   4104\u001b[0m                 \u001b[0mindexer\u001b[0m \u001b[0;34m=\u001b[0m \u001b[0;34m[\u001b[0m\u001b[0mindexer\u001b[0m\u001b[0;34m]\u001b[0m\u001b[0;34m\u001b[0m\u001b[0;34m\u001b[0m\u001b[0m\n",
            "\u001b[0;32m/usr/local/lib/python3.12/dist-packages/pandas/core/indexes/base.py\u001b[0m in \u001b[0;36mget_loc\u001b[0;34m(self, key)\u001b[0m\n\u001b[1;32m   3810\u001b[0m             ):\n\u001b[1;32m   3811\u001b[0m                 \u001b[0;32mraise\u001b[0m \u001b[0mInvalidIndexError\u001b[0m\u001b[0;34m(\u001b[0m\u001b[0mkey\u001b[0m\u001b[0;34m)\u001b[0m\u001b[0;34m\u001b[0m\u001b[0;34m\u001b[0m\u001b[0m\n\u001b[0;32m-> 3812\u001b[0;31m             \u001b[0;32mraise\u001b[0m \u001b[0mKeyError\u001b[0m\u001b[0;34m(\u001b[0m\u001b[0mkey\u001b[0m\u001b[0;34m)\u001b[0m \u001b[0;32mfrom\u001b[0m \u001b[0merr\u001b[0m\u001b[0;34m\u001b[0m\u001b[0;34m\u001b[0m\u001b[0m\n\u001b[0m\u001b[1;32m   3813\u001b[0m         \u001b[0;32mexcept\u001b[0m \u001b[0mTypeError\u001b[0m\u001b[0;34m:\u001b[0m\u001b[0;34m\u001b[0m\u001b[0;34m\u001b[0m\u001b[0m\n\u001b[1;32m   3814\u001b[0m             \u001b[0;31m# If we have a listlike key, _check_indexing_error will raise\u001b[0m\u001b[0;34m\u001b[0m\u001b[0;34m\u001b[0m\u001b[0m\n",
            "\u001b[0;31mKeyError\u001b[0m: 'name'"
          ]
        }
      ]
    },
    {
      "cell_type": "code",
      "source": [
        "rookie_te={\"player_name\":[\"Tyler_Warren\",\"Colston Loveland\"],\n",
        "           \"adp\":[119.1,141.8],\n",
        "           \"draft_ovr\":[14,10],\n",
        "           \"age\":[23,21],\n",
        "           \"adp_for_rank\":[119.1,141.8]}\n",
        "rookie_te[\"predicted_target_season\"]=model.predict(pd.DataFrame(rookie_te)[features])\n",
        "print(rookie_te)\n"
      ],
      "metadata": {
        "id": "PWzGbsAkwHja"
      },
      "execution_count": null,
      "outputs": []
    },
    {
      "cell_type": "code",
      "source": [
        "RB_2025=pd.concat([RB_2025,pd.DataFrame(rookie_te)])\n",
        "print(RB_2025)"
      ],
      "metadata": {
        "id": "x73KQN2cxAY1"
      },
      "execution_count": null,
      "outputs": []
    },
    {
      "cell_type": "code",
      "source": [
        "\n",
        "\n",
        "adp_non_sum[\"player_name\"] = normalize_name(adp_non_sum[\"player_name\"])\n",
        "RB_2025[\"player_name\"] = normalize_name(RB_2025[\"player_name\"])\n",
        "adp_non_sum.rename(columns={\"adp\": \"adp_for_rank\"}, inplace=True)\n",
        "RB_2025 = RB_2025.merge(adp_non_sum, on=[\"player_name\"], how=\"left\")\n",
        "RB_2025=RB_2025[[\"adp\",\"player_name\",\"fantasy_points_ppr_prev\",\n",
        "                 \"predicted_target_season\",\"touches_prev\",]]\n",
        "print(RB_2025.sort_values(\"adp\", ascending=True).head(50)\n",
        ")\n"
      ],
      "metadata": {
        "id": "n2dt7EtvaOJn"
      },
      "execution_count": null,
      "outputs": []
    },
    {
      "cell_type": "code",
      "source": [],
      "metadata": {
        "id": "HdQgDxSvYkht"
      },
      "execution_count": null,
      "outputs": []
    },
    {
      "cell_type": "code",
      "source": [
        "target_mean = 8.146032\n",
        "col = \"predicted_target_season\"\n",
        "\n",
        "drafted_mask = (\n",
        "    RB_2025[\"adp\"].notna()\n",
        "    & np.isfinite(RB_2025[\"adp\"])\n",
        "    & (RB_2025[\"adp\"] != 200)\n",
        ")\n",
        "\n",
        "current_mean = RB_2025.loc[drafted_mask, col].mean()\n",
        "\n",
        "RB_2025.loc[drafted_mask, col] = (\n",
        "    (RB_2025.loc[drafted_mask, col] - current_mean)\n",
        "    + target_mean\n",
        ")\n",
        "\n",
        "print(\"New mean (drafted):\", RB_2025.loc[drafted_mask, col].mean())\n",
        "print(\"New std (drafted):\", RB_2025.loc[drafted_mask, col].std())"
      ],
      "metadata": {
        "id": "SidDAA8uVwH9"
      },
      "execution_count": null,
      "outputs": []
    },
    {
      "cell_type": "code",
      "source": [
        "xcol = \"adp\"\n",
        "ycol = \"predicted_target_season\"\n",
        "\n",
        "plot_df = RB_2025[[xcol, ycol, \"player_name\"]].copy()\n",
        "\n",
        "plot_df[xcol] = pd.to_numeric(plot_df[xcol], errors=\"coerce\")\n",
        "plot_df[ycol] = pd.to_numeric(plot_df[ycol], errors=\"coerce\")\n",
        "plot_df = plot_df.replace([np.inf, -np.inf], np.nan).dropna(subset=[xcol, ycol])\n",
        "plot_df = plot_df[(plot_df[xcol] >= 1) & (plot_df[xcol] <= 400)]\n",
        "\n",
        "if plot_df[xcol].nunique() < 2 or len(plot_df) < 3:\n",
        "    print(\"Not enough clean data to fit a trendline.\")\n",
        "else:\n",
        "    x = plot_df[xcol].to_numpy(dtype=float)\n",
        "    y = plot_df[ycol].to_numpy(dtype=float)\n",
        "    names = plot_df[\"player_name\"].to_numpy()\n",
        "\n",
        "    x_c = x - np.mean(x)\n",
        "    y_c = y - np.mean(y)\n",
        "    try:\n",
        "        m, b = np.polyfit(x_c, y_c, 1)\n",
        "        b = b + np.mean(y) - m * np.mean(x)\n",
        "    except np.linalg.LinAlgError:\n",
        "        denom = np.dot(x_c, x_c)\n",
        "        if denom == 0:\n",
        "            print(\"Cannot fit a line: zero variance in x after cleaning.\")\n",
        "            m, b = 0.0, np.mean(y)\n",
        "        else:\n",
        "            m = np.dot(x_c, y_c) / denom\n",
        "            b = np.mean(y) - m * np.mean(x)\n",
        "\n",
        "    y_pred = m * x + b\n",
        "    residuals = y - y_pred\n",
        "    std_dev = residuals.std(ddof=1)\n",
        "\n",
        "    order = np.argsort(x)\n",
        "    xs = x[order]\n",
        "    yps = y_pred[order]\n",
        "\n",
        "    plt.figure(figsize=(10, 7))\n",
        "    plt.scatter(x, y, alpha=0.7, label=\"Players\")\n",
        "    plt.plot(xs, yps, color=\"red\", linewidth=2, label=f\"Trendline (m={m:.3f})\")\n",
        "    plt.fill_between(xs, yps - std_dev, yps + std_dev, color=\"red\", alpha=0.2, label=\"±1σ residuals\")\n",
        "\n",
        "    for xi, yi, name in zip(x, y, names):\n",
        "        plt.annotate(name, (xi, yi), fontsize=8, alpha=0.7, xytext=(3, 3), textcoords=\"offset points\")\n",
        "\n",
        "    plt.xlabel(\"Average Draft Position (ADP)\")\n",
        "    plt.ylabel(\"Projected Fantasy Points\")\n",
        "    plt.title(\"WR ADP vs Projected Fantasy Points — 2025 Season\")\n",
        "    plt.grid(True, linestyle=\"--\", alpha=0.5)\n",
        "    plt.legend()\n",
        "    plt.tight_layout()\n",
        "    plt.show()"
      ],
      "metadata": {
        "id": "kP0-AnUrwRtw"
      },
      "execution_count": null,
      "outputs": []
    },
    {
      "cell_type": "code",
      "source": [
        "xcol = \"adp\"\n",
        "ycol = \"predicted_target_season\"\n",
        "\n",
        "plot_df = RB_2025[RB_2025[\"adp\"] != 200][[xcol, ycol, \"player_name\"]].copy()\n",
        "\n",
        "plot_df[xcol] = pd.to_numeric(plot_df[xcol], errors=\"coerce\")\n",
        "plot_df[ycol] = pd.to_numeric(plot_df[ycol], errors=\"coerce\")\n",
        "plot_df = plot_df.replace([np.inf, -np.inf], np.nan).dropna(subset=[xcol, ycol])\n",
        "plot_df = plot_df[(plot_df[xcol] >= 1) & (plot_df[xcol] <= 400)]\n",
        "\n",
        "if plot_df[xcol].nunique() < 2 or len(plot_df) < 3:\n",
        "    print(\"Not enough clean data to fit a trendline.\")\n",
        "else:\n",
        "    x = plot_df[xcol].to_numpy(dtype=float)\n",
        "    y = plot_df[ycol].to_numpy(dtype=float)\n",
        "    names = plot_df[\"player_name\"].to_numpy()\n",
        "\n",
        "    x_c = x - np.mean(x)\n",
        "    y_c = y - np.mean(y)\n",
        "    try:\n",
        "        m, b = np.polyfit(x_c, y_c, 1)\n",
        "        b = b + np.mean(y) - m * np.mean(x)\n",
        "    except np.linalg.LinAlgError:\n",
        "        denom = np.dot(x_c, x_c)\n",
        "        if denom == 0:\n",
        "            print(\"Cannot fit a line: zero variance in x after cleaning.\")\n",
        "            m, b = 0.0, np.mean(y)\n",
        "        else:\n",
        "            m = np.dot(x_c, y_c) / denom\n",
        "            b = np.mean(y) - m * np.mean(x)\n",
        "\n",
        "    y_pred = m * x + b\n",
        "    residuals = y - y_pred\n",
        "    std_dev = residuals.std(ddof=1)\n",
        "\n",
        "    order = np.argsort(x)\n",
        "    xs = x[order]\n",
        "    yps = y_pred[order]\n",
        "\n",
        "    plt.figure(figsize=(10, 7))\n",
        "    plt.scatter(x, y, alpha=0.7, label=\"Players\")\n",
        "    plt.plot(xs, yps, color=\"red\", linewidth=2, label=f\"Trendline (m={m:.3f})\")\n",
        "    plt.fill_between(xs, yps - std_dev, yps + std_dev, color=\"red\", alpha=0.2, label=\"±1σ residuals\")\n",
        "\n",
        "    for xi, yi, name in zip(x, y, names):\n",
        "        plt.annotate(name, (xi, yi), fontsize=8, alpha=0.7, xytext=(3, 3), textcoords=\"offset points\")\n",
        "\n",
        "    plt.xlabel(\"Average Draft Position (ADP)\")\n",
        "    plt.ylabel(\"Projected Fantasy Points\")\n",
        "    plt.title(\"WR ADP vs Projected Fantasy Points — 2025 Season\")\n",
        "    plt.grid(True, linestyle=\"--\", alpha=0.5)\n",
        "    plt.legend()\n",
        "    plt.tight_layout()\n",
        "    plt.show()"
      ],
      "metadata": {
        "id": "fdWIFr-CXjBQ"
      },
      "execution_count": null,
      "outputs": []
    },
    {
      "cell_type": "code",
      "source": [
        "RB_2025[\"adp_rank\"] = RB_2025[\"adp_for_rank\"].rank(method=\"min\", ascending=True)\n",
        "\n",
        "RB_2025[\"predicted_rank\"] = RB_2025[\"predicted_target_season\"].rank(method=\"min\", ascending=False)\n"
      ],
      "metadata": {
        "id": "oXZueC4BZogJ"
      },
      "execution_count": null,
      "outputs": []
    },
    {
      "cell_type": "code",
      "source": [
        "RB_2025.loc[RB_2025[\"player_name\"] == \"Devon Achane\", \"adp_for_rank\"] = 8.7\n",
        "RB_2025.loc[RB_2025[\"player_name\"] == \"J.K. Dobbins\", \"adp_for_rank\"] = 90.2\n",
        "\n",
        "xcol = \"predicted_rank\"\n",
        "ycol = \"predicted_target_season\"\n",
        "\n",
        "plot_df = RB_2025[[xcol, ycol, \"player_name\"]].copy()\n",
        "\n",
        "plot_df[xcol] = pd.to_numeric(plot_df[xcol], errors=\"coerce\")\n",
        "plot_df[ycol] = pd.to_numeric(plot_df[ycol], errors=\"coerce\")\n",
        "plot_df = plot_df.replace([np.inf, -np.inf], np.nan).dropna(subset=[xcol, ycol])\n",
        "plot_df = plot_df[(plot_df[xcol] >= 1) & (plot_df[xcol] <= 400)]\n",
        "\n",
        "if plot_df[xcol].nunique() < 2 or len(plot_df) < 3:\n",
        "    print(\"Not enough clean data to fit a trendline.\")\n",
        "else:\n",
        "    x = plot_df[xcol].to_numpy(dtype=float)\n",
        "    y = plot_df[ycol].to_numpy(dtype=float)\n",
        "    names = plot_df[\"player_name\"].to_numpy()\n",
        "\n",
        "    x_c = x - np.mean(x)\n",
        "    y_c = y - np.mean(y)\n",
        "    try:\n",
        "        m, b = np.polyfit(x_c, y_c, 1)\n",
        "        b = b + np.mean(y) - m * np.mean(x)\n",
        "    except np.linalg.LinAlgError:\n",
        "        denom = np.dot(x_c, x_c)\n",
        "        if denom == 0:\n",
        "            print(\"Cannot fit a line: zero variance in x after cleaning.\")\n",
        "            m, b = 0.0, np.mean(y)\n",
        "        else:\n",
        "            m = np.dot(x_c, y_c) / denom\n",
        "            b = np.mean(y) - m * np.mean(x)\n",
        "\n",
        "    y_pred = m * x + b\n",
        "    residuals = y - y_pred\n",
        "    std_dev = residuals.std(ddof=1)\n",
        "\n",
        "    order = np.argsort(x)\n",
        "    xs = x[order]\n",
        "    yps = y_pred[order]\n",
        "\n",
        "    plt.figure(figsize=(10, 7))\n",
        "    plt.scatter(x, y, alpha=0.7, label=\"Players\")\n",
        "    plt.plot(xs, yps, color=\"red\", linewidth=2, label=f\"Trendline (m={m:.3f})\")\n",
        "    plt.fill_between(xs, yps - std_dev, yps + std_dev, color=\"red\", alpha=0.2, label=\"±1σ residuals\")\n",
        "\n",
        "    for xi, yi, name in zip(x, y, names):\n",
        "        plt.annotate(name, (xi, yi), fontsize=8, alpha=0.7, xytext=(3, 3), textcoords=\"offset points\")\n",
        "\n",
        "    plt.xlabel(\"TE Predicted Rank\")\n",
        "    plt.ylabel(\"Predicted Fantasy Points\")\n",
        "    plt.title(\"TE Predicted Rank vs Fantasy Points — 2025 Season\")\n",
        "    plt.grid(True, linestyle=\"--\", alpha=0.5)\n",
        "    plt.legend()\n",
        "    plt.tight_layout()\n",
        "    plt.show()"
      ],
      "metadata": {
        "id": "nWaFmQHtZmiO"
      },
      "execution_count": null,
      "outputs": []
    },
    {
      "cell_type": "code",
      "source": [
        "RB_2025.loc[RB_2025[\"player_name\"] == \"Devon Achane\", \"adp_for_rank\"] = 8.7\n",
        "RB_2025.loc[RB_2025[\"player_name\"] == \"J.K. Dobbins\", \"adp_for_rank\"] = 90.2\n",
        "\n",
        "RB_2025=RB_2025[RB_2025[\"adp\"]!=200]\n",
        "xcol = \"predicted_rank\"\n",
        "ycol = \"predicted_target_season\"\n",
        "\n",
        "plot_df = RB_2025[[xcol, ycol, \"player_name\"]].copy()\n",
        "\n",
        "plot_df[xcol] = pd.to_numeric(plot_df[xcol], errors=\"coerce\")\n",
        "plot_df[ycol] = pd.to_numeric(plot_df[ycol], errors=\"coerce\")\n",
        "plot_df = plot_df.replace([np.inf, -np.inf], np.nan).dropna(subset=[xcol, ycol])\n",
        "plot_df = plot_df[(plot_df[xcol] >= 1) & (plot_df[xcol] <= 400)]\n",
        "\n",
        "if plot_df[xcol].nunique() < 2 or len(plot_df) < 3:\n",
        "    print(\"Not enough clean data to fit a trendline.\")\n",
        "else:\n",
        "    x = plot_df[xcol].to_numpy(dtype=float)\n",
        "    y = plot_df[ycol].to_numpy(dtype=float)\n",
        "    names = plot_df[\"player_name\"].to_numpy()\n",
        "\n",
        "    x_c = x - np.mean(x)\n",
        "    y_c = y - np.mean(y)\n",
        "    try:\n",
        "        m, b = np.polyfit(x_c, y_c, 1)\n",
        "        b = b + np.mean(y) - m * np.mean(x)\n",
        "    except np.linalg.LinAlgError:\n",
        "        denom = np.dot(x_c, x_c)\n",
        "        if denom == 0:\n",
        "            print(\"Cannot fit a line: zero variance in x after cleaning.\")\n",
        "            m, b = 0.0, np.mean(y)\n",
        "        else:\n",
        "            m = np.dot(x_c, y_c) / denom\n",
        "            b = np.mean(y) - m * np.mean(x)\n",
        "\n",
        "    y_pred = m * x + b\n",
        "    residuals = y - y_pred\n",
        "    std_dev = residuals.std(ddof=1)\n",
        "\n",
        "    order = np.argsort(x)\n",
        "    xs = x[order]\n",
        "    yps = y_pred[order]\n",
        "\n",
        "    plt.figure(figsize=(10, 7))\n",
        "    plt.scatter(x, y, alpha=0.7, label=\"Players\")\n",
        "    plt.plot(xs, yps, color=\"red\", linewidth=2, label=f\"Trendline (m={m:.3f})\")\n",
        "    plt.fill_between(xs, yps - std_dev, yps + std_dev, color=\"red\", alpha=0.2, label=\"±1σ residuals\")\n",
        "\n",
        "    for xi, yi, name in zip(x, y, names):\n",
        "        plt.annotate(name, (xi, yi), fontsize=8, alpha=0.7, xytext=(3, 3), textcoords=\"offset points\")\n",
        "\n",
        "    plt.xlabel(\"TE Predicted Rank\")\n",
        "    plt.ylabel(\"Predicted Fantasy Points\")\n",
        "    plt.title(\"TE Predicted Rank vs Fantasy Points — 2025 Season\")\n",
        "    plt.grid(True, linestyle=\"--\", alpha=0.5)\n",
        "    plt.legend()\n",
        "    plt.tight_layout()\n",
        "    plt.show()"
      ],
      "metadata": {
        "id": "msk1dsFcZ8il"
      },
      "execution_count": null,
      "outputs": []
    },
    {
      "cell_type": "code",
      "source": [
        "drive.mount('/content/drive')\n",
        "RB_2025.to_csv(\"/content/drive/MyDrive/TE_2025.csv\")"
      ],
      "metadata": {
        "id": "R5TQJkf8aVrK"
      },
      "execution_count": null,
      "outputs": []
    }
  ]
}