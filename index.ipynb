{
 "cells": [
  {
   "cell_type": "markdown",
   "id": "5434fa65",
   "metadata": {},
   "source": [
    "1. [QB Preseason Rankings](QB_preseason_postable.ipynb)\n",
    "1. [RB Preseason Rankings](RB_preseason_postable.ipynb)\n",
    "1. [TE Preseason Rankings](TE_preseason_postable.ipynb)\n",
    "1. [WR Preseason Rankings](WR_preseason_postable.ipynb)"
   ]
  },
  {
   "cell_type": "markdown",
   "id": "e18f11be",
   "metadata": {},
   "source": []
  }
 ],
 "metadata": {
  "language_info": {
   "name": "python"
  }
 },
 "nbformat": 4,
 "nbformat_minor": 5
}
