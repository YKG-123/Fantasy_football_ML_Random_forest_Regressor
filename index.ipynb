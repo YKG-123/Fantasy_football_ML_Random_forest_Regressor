{
 "cells": [
  {
   "cell_type": "markdown",
   "id": "5434fa65",
   "metadata": {},
   "source": [
    "1. [QB Preseason Rankings](QB_Prev_Season_1.ipynb)\n",
    "1. [RB Preseason Rankings](RB_Prev_Season_1.ipynb)\n",
    "1. [TE Preseason Rankings](TE_Prev_Season_1.ipynb)\n",
    "1. [WR Preseason Rankings](WR_Prev_Season_1.ipynb)"
   ]
  }
 ],
 "metadata": {
  "language_info": {
   "name": "python"
  }
 },
 "nbformat": 4,
 "nbformat_minor": 5
}
