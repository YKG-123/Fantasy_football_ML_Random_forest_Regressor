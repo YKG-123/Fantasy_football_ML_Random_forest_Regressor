{
  "cells": [
    {
      "cell_type": "markdown",
      "metadata": {
        "colab_type": "text",
        "id": "view-in-github"
      },
      "source": [
        "<a href=\"https://colab.research.google.com/github/YKG-123/Fantasy_football_ML_Random_forest_Regressor/blob/main/RB_preseason_postable.ipynb\" target=\"_parent\"><img src=\"https://colab.research.google.com/assets/colab-badge.svg\" alt=\"Open In Colab\"/></a>"
      ]
    },
    {
      "cell_type": "code",
      "execution_count": null,
      "metadata": {
        "colab": {
          "base_uri": "https://localhost:8080/"
        },
        "id": "x6TkEzneJcfE",
        "outputId": "a1a46af9-6f31-43c7-9146-d448c24ff126"
      },
      "outputs": [
        {
          "ename": "ModuleNotFoundError",
          "evalue": "No module named 'pandas'",
          "output_type": "error",
          "traceback": [
            "\u001b[31m---------------------------------------------------------------------------\u001b[39m",
            "\u001b[31mModuleNotFoundError\u001b[39m                       Traceback (most recent call last)",
            "\u001b[36mCell\u001b[39m\u001b[36m \u001b[39m\u001b[32mIn[2]\u001b[39m\u001b[32m, line 2\u001b[39m\n\u001b[32m      1\u001b[39m \u001b[38;5;66;03m# from google.colab import drive\u001b[39;00m\n\u001b[32m----> \u001b[39m\u001b[32m2\u001b[39m \u001b[38;5;28;01mimport\u001b[39;00m\u001b[38;5;250m \u001b[39m\u001b[34;01mpandas\u001b[39;00m\u001b[38;5;250m \u001b[39m\u001b[38;5;28;01mas\u001b[39;00m\u001b[38;5;250m \u001b[39m\u001b[34;01mpd\u001b[39;00m\n\u001b[32m      3\u001b[39m \u001b[38;5;28;01mimport\u001b[39;00m\u001b[38;5;250m \u001b[39m\u001b[34;01mnumpy\u001b[39;00m\u001b[38;5;250m \u001b[39m\u001b[38;5;28;01mas\u001b[39;00m\u001b[38;5;250m \u001b[39m\u001b[34;01mnp\u001b[39;00m\n\u001b[32m      4\u001b[39m pd.set_option(\u001b[33m'\u001b[39m\u001b[33mdisplay.max_rows\u001b[39m\u001b[33m'\u001b[39m, \u001b[38;5;28;01mNone\u001b[39;00m)\n",
            "\u001b[31mModuleNotFoundError\u001b[39m: No module named 'pandas'"
          ]
        }
      ],
      "source": [
        "from google.colab import drive\n",
        "import pandas as pd\n",
        "import numpy as np\n",
        "drive.mount('/content/drive')\n",
        "RB_2025=pd.read_csv('/content/drive/MyDrive/RB_2025.csv')\n",
        "RB_2025=RB_2025.sort_values(\"predicted_rank\",ascending=True)\n",
        "RB_2025.rename(columns={\"adp\":\"adp_for_model\"})\n",
        "RB_2025.rename(columns={\"adp_for_rank\": \"adp_true\"}, inplace=True)\n",
        "RB_2025=RB_2025.reset_index(drop=True)\n",
        "RB_2025.rename(columns={\"adp_true\": \"adp\"}, inplace=True)"
      ]
    },
    {
      "cell_type": "code",
      "execution_count": 1,
      "metadata": {
        "colab": {
          "base_uri": "https://localhost:8080/",
          "height": 677
        },
        "id": "thXYHONbKChi",
        "outputId": "7bd13f2e-e7b4-4080-a117-d400edb4bedd"
      },
      "outputs": [
        {
          "ename": "NameError",
          "evalue": "name 'pd' is not defined",
          "output_type": "error",
          "traceback": [
            "\u001b[31m---------------------------------------------------------------------------\u001b[39m",
            "\u001b[31mNameError\u001b[39m                                 Traceback (most recent call last)",
            "\u001b[36mCell\u001b[39m\u001b[36m \u001b[39m\u001b[32mIn[1]\u001b[39m\u001b[32m, line 1\u001b[39m\n\u001b[32m----> \u001b[39m\u001b[32m1\u001b[39m \u001b[43mpd\u001b[49m.set_option(\u001b[33m'\u001b[39m\u001b[33mdisplay.max_rows\u001b[39m\u001b[33m'\u001b[39m, \u001b[38;5;28;01mNone\u001b[39;00m)\n\u001b[32m      2\u001b[39m RB_2025=RB_2025.replace(\u001b[32m200\u001b[39m,\u001b[33m\"\u001b[39m\u001b[33mundrafted\u001b[39m\u001b[33m\"\u001b[39m)\n\u001b[32m      3\u001b[39m RB_2025=RB_2025[RB_2025[\u001b[33m\"\u001b[39m\u001b[33madp\u001b[39m\u001b[33m\"\u001b[39m]!=\u001b[33m\"\u001b[39m\u001b[33mundrafted\u001b[39m\u001b[33m\"\u001b[39m]\n",
            "\u001b[31mNameError\u001b[39m: name 'pd' is not defined"
          ]
        }
      ],
      "source": [
        "pd.set_option('display.max_rows', None)\n",
        "RB_2025=RB_2025.replace(200,\"undrafted\")\n",
        "RB_2025=RB_2025[RB_2025[\"adp\"]!=\"undrafted\"]\n",
        "RB_2025.reset_index(inplace=True)\n",
        "RB_2025[\"predicted_rank\"]=RB_2025[\"predicted_target_season\"].rank(ascending=False)\n",
        "RB_2025[\"adp_rank\"]=RB_2025[\"adp_rank\"].astype(int)\n",
        "RB_2025 = RB_2025[RB_2025[\"player_name\"] != \"Alexander Mattison\"]\n",
        "RB_2025 = RB_2025[RB_2025[\"player_name\"] != \"Zack Moss\"]\n",
        "RB_2025[\"adp-predictions\"]=RB_2025[\"adp_rank\"]-RB_2025[\"predicted_rank\"]\n",
        "RB_2025[[\"player_name\",\"adp\",\"predicted_rank\",\"adp_rank\",\"adp-predictions\",\"predicted_target_season\"]].head(1000)\n"
      ]
    },
    {
      "cell_type": "code",
      "execution_count": null,
      "metadata": {
        "id": "0uHX4HtbMQmV"
      },
      "outputs": [],
      "source": []
    }
  ],
  "metadata": {
    "colab": {
      "authorship_tag": "ABX9TyNOarwuNzUeKSlnn9v6yMBc",
      "include_colab_link": true,
      "provenance": []
    },
    "kernelspec": {
      "display_name": "Python 3",
      "name": "python3"
    },
    "language_info": {
      "codemirror_mode": {
        "name": "ipython",
        "version": 3
      },
      "file_extension": ".py",
      "mimetype": "text/x-python",
      "name": "python",
      "nbconvert_exporter": "python",
      "pygments_lexer": "ipython3",
      "version": "3.12.1"
    }
  },
  "nbformat": 4,
  "nbformat_minor": 0
}
